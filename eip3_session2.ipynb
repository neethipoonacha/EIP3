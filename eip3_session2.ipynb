{
  "nbformat": 4,
  "nbformat_minor": 0,
  "metadata": {
    "colab": {
      "name": "eip3.session2.ipynb",
      "version": "0.3.2",
      "provenance": [],
      "collapsed_sections": [],
      "include_colab_link": true
    },
    "kernelspec": {
      "name": "python3",
      "display_name": "Python 3"
    }
  },
  "cells": [
    {
      "cell_type": "markdown",
      "metadata": {
        "id": "view-in-github",
        "colab_type": "text"
      },
      "source": [
        "<a href=\"https://colab.research.google.com/github/neethipoonacha/EIP3/blob/master/eip3_session2.ipynb\" target=\"_parent\"><img src=\"https://colab.research.google.com/assets/colab-badge.svg\" alt=\"Open In Colab\"/></a>"
      ]
    },
    {
      "cell_type": "code",
      "metadata": {
        "id": "F0QAJ5Odd0Cd",
        "colab_type": "code",
        "colab": {
          "base_uri": "https://localhost:8080/",
          "height": 34
        },
        "outputId": "576d83db-0a47-4f36-efed-df27b77fe99e"
      },
      "source": [
        "import numpy\n",
        "from keras.models import Sequential\n",
        "from keras.layers import Dense\n",
        "from keras.layers import Dropout\n",
        "from keras.layers import LSTM\n",
        "from keras.callbacks import ModelCheckpoint\n",
        "from keras.utils import np_utils"
      ],
      "execution_count": 1,
      "outputs": [
        {
          "output_type": "stream",
          "text": [
            "Using TensorFlow backend.\n"
          ],
          "name": "stderr"
        }
      ]
    },
    {
      "cell_type": "code",
      "metadata": {
        "id": "ZqZKW9UEfApE",
        "colab_type": "code",
        "colab": {
          "base_uri": "https://localhost:8080/",
          "height": 189
        },
        "outputId": "a746cd27-4af1-4e39-c68e-ce9bb44ac23c"
      },
      "source": [
        "from google.colab import drive\n",
        "drive.mount('/content/gdrive', force_remount=True)"
      ],
      "execution_count": 2,
      "outputs": [
        {
          "output_type": "stream",
          "text": [
            "Go to this URL in a browser: https://accounts.google.com/o/oauth2/auth?client_id=947318989803-6bn6qk8qdgf4n4g3pfee6491hc0brc4i.apps.googleusercontent.com&redirect_uri=urn%3Aietf%3Awg%3Aoauth%3A2.0%3Aoob&scope=email%20https%3A%2F%2Fwww.googleapis.com%2Fauth%2Fdocs.test%20https%3A%2F%2Fwww.googleapis.com%2Fauth%2Fdrive%20https%3A%2F%2Fwww.googleapis.com%2Fauth%2Fdrive.photos.readonly%20https%3A%2F%2Fwww.googleapis.com%2Fauth%2Fpeopleapi.readonly&response_type=code\n",
            "\n",
            "Enter your authorization code:\n",
            "··········\n",
            "Mounted at /content/gdrive\n"
          ],
          "name": "stdout"
        }
      ]
    },
    {
      "cell_type": "code",
      "metadata": {
        "id": "3xbqz-t8eVtG",
        "colab_type": "code",
        "colab": {}
      },
      "source": [
        "# load ascii text and covert to lowercase\n",
        "filename = \"/content/gdrive/My Drive/wonderland.txt\"\n",
        "raw_text = open(filename).read()\n",
        "raw_text = raw_text.lower()"
      ],
      "execution_count": 0,
      "outputs": []
    },
    {
      "cell_type": "code",
      "metadata": {
        "id": "1nWQghwhGI6M",
        "colab_type": "code",
        "colab": {}
      },
      "source": [
        "# create mapping of unique chars to integers\n",
        "chars = sorted(list(set(raw_text)))\n",
        "char_to_int = dict((c, i) for i, c in enumerate(chars))"
      ],
      "execution_count": 0,
      "outputs": []
    },
    {
      "cell_type": "code",
      "metadata": {
        "id": "XrxmNRuJG4Pa",
        "colab_type": "code",
        "colab": {
          "base_uri": "https://localhost:8080/",
          "height": 51
        },
        "outputId": "6a4d0f74-e7b8-41ca-d2c2-d6ab11dd5c77"
      },
      "source": [
        "n_chars = len(raw_text)\n",
        "n_vocab = len(chars)\n",
        "print (\"Total Characters: \", n_chars)\n",
        "print (\"Total Vocab: \", n_vocab)"
      ],
      "execution_count": 5,
      "outputs": [
        {
          "output_type": "stream",
          "text": [
            "Total Characters:  163344\n",
            "Total Vocab:  58\n"
          ],
          "name": "stdout"
        }
      ]
    },
    {
      "cell_type": "code",
      "metadata": {
        "id": "aGmNjnu8HAar",
        "colab_type": "code",
        "colab": {
          "base_uri": "https://localhost:8080/",
          "height": 34
        },
        "outputId": "aed3d4ab-4c95-4db9-ce4e-9245c0b7272f"
      },
      "source": [
        "# prepare the dataset of input to output pairs encoded as integers\n",
        "seq_length = 100\n",
        "dataX = []\n",
        "dataY = []\n",
        "for i in range(0, n_chars - seq_length, 1):\n",
        "\tseq_in = raw_text[i:i + seq_length]\n",
        "\tseq_out = raw_text[i + seq_length]\n",
        "\tdataX.append([char_to_int[char] for char in seq_in])\n",
        "\tdataY.append(char_to_int[seq_out])\n",
        "n_patterns = len(dataX)\n",
        "print (\"Total Patterns: \", n_patterns)"
      ],
      "execution_count": 6,
      "outputs": [
        {
          "output_type": "stream",
          "text": [
            "Total Patterns:  163244\n"
          ],
          "name": "stdout"
        }
      ]
    },
    {
      "cell_type": "code",
      "metadata": {
        "id": "u_5-SwV0HMIq",
        "colab_type": "code",
        "colab": {}
      },
      "source": [
        "# reshape X to be [samples, time steps, features]\n",
        "X = numpy.reshape(dataX, (n_patterns, seq_length, 1))\n",
        "# normalize\n",
        "X = X / float(n_vocab)\n",
        "# one hot encode the output variable\n",
        "y = np_utils.to_categorical(dataY)"
      ],
      "execution_count": 0,
      "outputs": []
    },
    {
      "cell_type": "code",
      "metadata": {
        "id": "JVkBWMnEHR9k",
        "colab_type": "code",
        "colab": {
          "base_uri": "https://localhost:8080/",
          "height": 329
        },
        "outputId": "ba1308c4-f547-4b72-e0db-8f05cfbb2955"
      },
      "source": [
        "# define the LSTM model\n",
        "model = Sequential()\n",
        "model.add(LSTM(256, input_shape=(X.shape[1], X.shape[2])))\n",
        "model.add(Dropout(0.2))\n",
        "model.add(Dense(y.shape[1], activation='softmax'))\n",
        "model.compile(loss='categorical_crossentropy', optimizer='adam')"
      ],
      "execution_count": 8,
      "outputs": [
        {
          "output_type": "stream",
          "text": [
            "WARNING: Logging before flag parsing goes to stderr.\n",
            "W0726 04:43:53.977230 140425579214720 deprecation_wrapper.py:119] From /usr/local/lib/python3.6/dist-packages/keras/backend/tensorflow_backend.py:74: The name tf.get_default_graph is deprecated. Please use tf.compat.v1.get_default_graph instead.\n",
            "\n",
            "W0726 04:43:54.013309 140425579214720 deprecation_wrapper.py:119] From /usr/local/lib/python3.6/dist-packages/keras/backend/tensorflow_backend.py:517: The name tf.placeholder is deprecated. Please use tf.compat.v1.placeholder instead.\n",
            "\n",
            "W0726 04:43:54.021646 140425579214720 deprecation_wrapper.py:119] From /usr/local/lib/python3.6/dist-packages/keras/backend/tensorflow_backend.py:4138: The name tf.random_uniform is deprecated. Please use tf.random.uniform instead.\n",
            "\n",
            "W0726 04:43:54.377609 140425579214720 deprecation_wrapper.py:119] From /usr/local/lib/python3.6/dist-packages/keras/backend/tensorflow_backend.py:133: The name tf.placeholder_with_default is deprecated. Please use tf.compat.v1.placeholder_with_default instead.\n",
            "\n",
            "W0726 04:43:54.388933 140425579214720 deprecation.py:506] From /usr/local/lib/python3.6/dist-packages/keras/backend/tensorflow_backend.py:3445: calling dropout (from tensorflow.python.ops.nn_ops) with keep_prob is deprecated and will be removed in a future version.\n",
            "Instructions for updating:\n",
            "Please use `rate` instead of `keep_prob`. Rate should be set to `rate = 1 - keep_prob`.\n",
            "W0726 04:43:54.419111 140425579214720 deprecation_wrapper.py:119] From /usr/local/lib/python3.6/dist-packages/keras/optimizers.py:790: The name tf.train.Optimizer is deprecated. Please use tf.compat.v1.train.Optimizer instead.\n",
            "\n",
            "W0726 04:43:54.446444 140425579214720 deprecation_wrapper.py:119] From /usr/local/lib/python3.6/dist-packages/keras/backend/tensorflow_backend.py:3295: The name tf.log is deprecated. Please use tf.math.log instead.\n",
            "\n"
          ],
          "name": "stderr"
        }
      ]
    },
    {
      "cell_type": "code",
      "metadata": {
        "id": "jVAh5cedJtpu",
        "colab_type": "code",
        "colab": {}
      },
      "source": [
        "# define the checkpoint\n",
        "filepath=\"weights-improvement-{epoch:02d}-{loss:.4f}.hdf5\"\n",
        "checkpoint = ModelCheckpoint(filepath, monitor='loss', verbose=1, save_best_only=True, mode='min')\n",
        "callbacks_list = [checkpoint]"
      ],
      "execution_count": 0,
      "outputs": []
    },
    {
      "cell_type": "code",
      "metadata": {
        "id": "z8KdHiCMJx4J",
        "colab_type": "code",
        "colab": {
          "base_uri": "https://localhost:8080/",
          "height": 1000
        },
        "outputId": "5a3d83d6-016a-46c8-9932-943f1c83635c"
      },
      "source": [
        "model.fit(X, y, epochs=20, batch_size=128, callbacks=callbacks_list)"
      ],
      "execution_count": 10,
      "outputs": [
        {
          "output_type": "stream",
          "text": [
            "W0726 04:44:01.952933 140425579214720 deprecation.py:323] From /usr/local/lib/python3.6/dist-packages/tensorflow/python/ops/math_grad.py:1250: add_dispatch_support.<locals>.wrapper (from tensorflow.python.ops.array_ops) is deprecated and will be removed in a future version.\n",
            "Instructions for updating:\n",
            "Use tf.where in 2.0, which has the same broadcast rule as np.where\n"
          ],
          "name": "stderr"
        },
        {
          "output_type": "stream",
          "text": [
            "Epoch 1/20\n",
            "163244/163244 [==============================] - 1058s 6ms/step - loss: 2.9877\n",
            "\n",
            "Epoch 00001: loss improved from inf to 2.98770, saving model to weights-improvement-01-2.9877.hdf5\n",
            "Epoch 2/20\n",
            "163244/163244 [==============================] - 1059s 6ms/step - loss: 2.8107\n",
            "\n",
            "Epoch 00002: loss improved from 2.98770 to 2.81075, saving model to weights-improvement-02-2.8107.hdf5\n",
            "Epoch 3/20\n",
            "163244/163244 [==============================] - 1058s 6ms/step - loss: 2.7341\n",
            "\n",
            "Epoch 00003: loss improved from 2.81075 to 2.73414, saving model to weights-improvement-03-2.7341.hdf5\n",
            "Epoch 4/20\n",
            "163244/163244 [==============================] - 1054s 6ms/step - loss: 2.6750\n",
            "\n",
            "Epoch 00004: loss improved from 2.73414 to 2.67495, saving model to weights-improvement-04-2.6750.hdf5\n",
            "Epoch 5/20\n",
            "163244/163244 [==============================] - 1049s 6ms/step - loss: 2.6127\n",
            "\n",
            "Epoch 00005: loss improved from 2.67495 to 2.61266, saving model to weights-improvement-05-2.6127.hdf5\n",
            "Epoch 6/20\n",
            "163244/163244 [==============================] - 1054s 6ms/step - loss: 2.5568\n",
            "\n",
            "Epoch 00006: loss improved from 2.61266 to 2.55679, saving model to weights-improvement-06-2.5568.hdf5\n",
            "Epoch 7/20\n",
            "163244/163244 [==============================] - 1056s 6ms/step - loss: 2.5008\n",
            "\n",
            "Epoch 00007: loss improved from 2.55679 to 2.50080, saving model to weights-improvement-07-2.5008.hdf5\n",
            "Epoch 8/20\n",
            "163244/163244 [==============================] - 1050s 6ms/step - loss: 2.4542\n",
            "\n",
            "Epoch 00008: loss improved from 2.50080 to 2.45418, saving model to weights-improvement-08-2.4542.hdf5\n",
            "Epoch 9/20\n",
            "163244/163244 [==============================] - 1058s 6ms/step - loss: 2.4100\n",
            "\n",
            "Epoch 00009: loss improved from 2.45418 to 2.41004, saving model to weights-improvement-09-2.4100.hdf5\n",
            "Epoch 10/20\n",
            "163244/163244 [==============================] - 1050s 6ms/step - loss: 2.3691\n",
            "\n",
            "Epoch 00010: loss improved from 2.41004 to 2.36910, saving model to weights-improvement-10-2.3691.hdf5\n",
            "Epoch 11/20\n",
            "163244/163244 [==============================] - 1046s 6ms/step - loss: 2.3298\n",
            "\n",
            "Epoch 00011: loss improved from 2.36910 to 2.32980, saving model to weights-improvement-11-2.3298.hdf5\n",
            "Epoch 12/20\n",
            "163244/163244 [==============================] - 1055s 6ms/step - loss: 2.2942\n",
            "\n",
            "Epoch 00012: loss improved from 2.32980 to 2.29422, saving model to weights-improvement-12-2.2942.hdf5\n",
            "Epoch 13/20\n",
            "163244/163244 [==============================] - 1050s 6ms/step - loss: 2.2616\n",
            "\n",
            "Epoch 00013: loss improved from 2.29422 to 2.26157, saving model to weights-improvement-13-2.2616.hdf5\n",
            "Epoch 14/20\n",
            "163244/163244 [==============================] - 1053s 6ms/step - loss: 2.2270\n",
            "\n",
            "Epoch 00014: loss improved from 2.26157 to 2.22697, saving model to weights-improvement-14-2.2270.hdf5\n",
            "Epoch 15/20\n",
            "163244/163244 [==============================] - 1053s 6ms/step - loss: 2.1962\n",
            "\n",
            "Epoch 00015: loss improved from 2.22697 to 2.19624, saving model to weights-improvement-15-2.1962.hdf5\n",
            "Epoch 16/20\n",
            "163244/163244 [==============================] - 1054s 6ms/step - loss: 2.1659\n",
            "\n",
            "Epoch 00016: loss improved from 2.19624 to 2.16595, saving model to weights-improvement-16-2.1659.hdf5\n",
            "Epoch 17/20\n",
            "163244/163244 [==============================] - 1059s 6ms/step - loss: 2.1380\n",
            "\n",
            "Epoch 00017: loss improved from 2.16595 to 2.13803, saving model to weights-improvement-17-2.1380.hdf5\n",
            "Epoch 18/20\n",
            "163244/163244 [==============================] - 1054s 6ms/step - loss: 2.1129\n",
            "\n",
            "Epoch 00018: loss improved from 2.13803 to 2.11293, saving model to weights-improvement-18-2.1129.hdf5\n",
            "Epoch 19/20\n",
            "163244/163244 [==============================] - 1056s 6ms/step - loss: 2.0902\n",
            "\n",
            "Epoch 00019: loss improved from 2.11293 to 2.09016, saving model to weights-improvement-19-2.0902.hdf5\n",
            "Epoch 20/20\n",
            "163244/163244 [==============================] - 1055s 6ms/step - loss: 2.0634\n",
            "\n",
            "Epoch 00020: loss improved from 2.09016 to 2.06336, saving model to weights-improvement-20-2.0634.hdf5\n"
          ],
          "name": "stdout"
        },
        {
          "output_type": "execute_result",
          "data": {
            "text/plain": [
              "<keras.callbacks.History at 0x7fb73da7d9b0>"
            ]
          },
          "metadata": {
            "tags": []
          },
          "execution_count": 10
        }
      ]
    }
  ]
}